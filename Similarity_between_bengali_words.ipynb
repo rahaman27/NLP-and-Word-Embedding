{
  "nbformat": 4,
  "nbformat_minor": 0,
  "metadata": {
    "colab": {
      "provenance": []
    },
    "kernelspec": {
      "name": "python3",
      "display_name": "Python 3"
    },
    "language_info": {
      "name": "python"
    }
  },
  "cells": [
    {
      "cell_type": "code",
      "source": [
        "from google.colab import drive"
      ],
      "metadata": {
        "id": "6RWmzaPB8Bke"
      },
      "execution_count": null,
      "outputs": []
    },
    {
      "cell_type": "code",
      "source": [
        "drive.mount('/drive')"
      ],
      "metadata": {
        "colab": {
          "base_uri": "https://localhost:8080/"
        },
        "id": "TKtHrKt39GmX",
        "outputId": "3eca9785-935e-4741-e268-fb74f6756973"
      },
      "execution_count": null,
      "outputs": [
        {
          "output_type": "stream",
          "name": "stdout",
          "text": [
            "Mounted at /drive\n"
          ]
        }
      ]
    },
    {
      "cell_type": "code",
      "execution_count": null,
      "metadata": {
        "colab": {
          "base_uri": "https://localhost:8080/"
        },
        "id": "K2gQsuZ_7TKv",
        "outputId": "ee26c481-df5c-4aac-baa4-858d28f4a361"
      },
      "outputs": [
        {
          "output_type": "stream",
          "name": "stdout",
          "text": [
            "Looking in indexes: https://pypi.org/simple, https://us-python.pkg.dev/colab-wheels/public/simple/\n",
            "Collecting bnlp_toolkit\n",
            "  Downloading bnlp_toolkit-3.2.0-py3-none-any.whl (19 kB)\n",
            "Collecting gensim==4.0.1\n",
            "  Downloading gensim-4.0.1-cp38-cp38-manylinux1_x86_64.whl (23.9 MB)\n",
            "\u001b[2K     \u001b[90m━━━━━━━━━━━━━━━━━━━━━━━━━━━━━━━━━━━━━━━━\u001b[0m \u001b[32m23.9/23.9 MB\u001b[0m \u001b[31m35.0 MB/s\u001b[0m eta \u001b[36m0:00:00\u001b[0m\n",
            "\u001b[?25hCollecting sentencepiece\n",
            "  Downloading sentencepiece-0.1.97-cp38-cp38-manylinux_2_17_x86_64.manylinux2014_x86_64.whl (1.3 MB)\n",
            "\u001b[2K     \u001b[90m━━━━━━━━━━━━━━━━━━━━━━━━━━━━━━━━━━━━━━━━\u001b[0m \u001b[32m1.3/1.3 MB\u001b[0m \u001b[31m79.9 MB/s\u001b[0m eta \u001b[36m0:00:00\u001b[0m\n",
            "\u001b[?25hCollecting sklearn-crfsuite\n",
            "  Downloading sklearn_crfsuite-0.3.6-py2.py3-none-any.whl (12 kB)\n",
            "Requirement already satisfied: wasabi in /usr/local/lib/python3.8/dist-packages (from bnlp_toolkit) (0.10.1)\n",
            "Requirement already satisfied: nltk in /usr/local/lib/python3.8/dist-packages (from bnlp_toolkit) (3.7)\n",
            "Requirement already satisfied: scipy in /usr/local/lib/python3.8/dist-packages (from bnlp_toolkit) (1.7.3)\n",
            "Requirement already satisfied: tqdm in /usr/local/lib/python3.8/dist-packages (from bnlp_toolkit) (4.64.1)\n",
            "Requirement already satisfied: numpy in /usr/local/lib/python3.8/dist-packages (from bnlp_toolkit) (1.21.6)\n",
            "Requirement already satisfied: smart-open>=1.8.1 in /usr/local/lib/python3.8/dist-packages (from gensim==4.0.1->bnlp_toolkit) (6.3.0)\n",
            "Requirement already satisfied: regex>=2021.8.3 in /usr/local/lib/python3.8/dist-packages (from nltk->bnlp_toolkit) (2022.6.2)\n",
            "Requirement already satisfied: joblib in /usr/local/lib/python3.8/dist-packages (from nltk->bnlp_toolkit) (1.2.0)\n",
            "Requirement already satisfied: click in /usr/local/lib/python3.8/dist-packages (from nltk->bnlp_toolkit) (7.1.2)\n",
            "Requirement already satisfied: six in /usr/local/lib/python3.8/dist-packages (from sklearn-crfsuite->bnlp_toolkit) (1.15.0)\n",
            "Collecting python-crfsuite>=0.8.3\n",
            "  Downloading python_crfsuite-0.9.9-cp38-cp38-manylinux_2_17_x86_64.manylinux2014_x86_64.whl (1.0 MB)\n",
            "\u001b[2K     \u001b[90m━━━━━━━━━━━━━━━━━━━━━━━━━━━━━━━━━━━━━━━━\u001b[0m \u001b[32m1.0/1.0 MB\u001b[0m \u001b[31m67.8 MB/s\u001b[0m eta \u001b[36m0:00:00\u001b[0m\n",
            "\u001b[?25hRequirement already satisfied: tabulate in /usr/local/lib/python3.8/dist-packages (from sklearn-crfsuite->bnlp_toolkit) (0.8.10)\n",
            "Installing collected packages: sentencepiece, python-crfsuite, sklearn-crfsuite, gensim, bnlp_toolkit\n",
            "  Attempting uninstall: gensim\n",
            "    Found existing installation: gensim 3.6.0\n",
            "    Uninstalling gensim-3.6.0:\n",
            "      Successfully uninstalled gensim-3.6.0\n",
            "Successfully installed bnlp_toolkit-3.2.0 gensim-4.0.1 python-crfsuite-0.9.9 sentencepiece-0.1.97 sklearn-crfsuite-0.3.6\n"
          ]
        }
      ],
      "source": [
        "!pip install -U bnlp_toolkit"
      ]
    },
    {
      "cell_type": "code",
      "source": [
        "pip install python-Levenshtein"
      ],
      "metadata": {
        "colab": {
          "base_uri": "https://localhost:8080/"
        },
        "id": "THJeXmWm70q9",
        "outputId": "426c361f-77d2-44d4-a234-5e7c0703e976"
      },
      "execution_count": null,
      "outputs": [
        {
          "output_type": "stream",
          "name": "stdout",
          "text": [
            "Looking in indexes: https://pypi.org/simple, https://us-python.pkg.dev/colab-wheels/public/simple/\n",
            "Collecting python-Levenshtein\n",
            "  Downloading python_Levenshtein-0.20.9-py3-none-any.whl (9.4 kB)\n",
            "Collecting Levenshtein==0.20.9\n",
            "  Downloading Levenshtein-0.20.9-cp38-cp38-manylinux_2_17_x86_64.manylinux2014_x86_64.whl (174 kB)\n",
            "\u001b[2K     \u001b[90m━━━━━━━━━━━━━━━━━━━━━━━━━━━━━━━━━━━━━━\u001b[0m \u001b[32m174.0/174.0 KB\u001b[0m \u001b[31m14.1 MB/s\u001b[0m eta \u001b[36m0:00:00\u001b[0m\n",
            "\u001b[?25hCollecting rapidfuzz<3.0.0,>=2.3.0\n",
            "  Downloading rapidfuzz-2.13.7-cp38-cp38-manylinux_2_17_x86_64.manylinux2014_x86_64.whl (2.2 MB)\n",
            "\u001b[2K     \u001b[90m━━━━━━━━━━━━━━━━━━━━━━━━━━━━━━━━━━━━━━━━\u001b[0m \u001b[32m2.2/2.2 MB\u001b[0m \u001b[31m103.2 MB/s\u001b[0m eta \u001b[36m0:00:00\u001b[0m\n",
            "\u001b[?25hInstalling collected packages: rapidfuzz, Levenshtein, python-Levenshtein\n",
            "Successfully installed Levenshtein-0.20.9 python-Levenshtein-0.20.9 rapidfuzz-2.13.7\n"
          ]
        }
      ]
    },
    {
      "cell_type": "markdown",
      "source": [
        "***`Generate Vector using pretrain model:`***"
      ],
      "metadata": {
        "id": "V34NCnRZ-XDn"
      }
    },
    {
      "cell_type": "code",
      "source": [
        "from bnlp import BengaliWord2Vec"
      ],
      "metadata": {
        "id": "nOr8cWq67nHc",
        "colab": {
          "base_uri": "https://localhost:8080/"
        },
        "outputId": "acd2696f-b9ec-4452-a1ef-b5acb9fa3c22"
      },
      "execution_count": null,
      "outputs": [
        {
          "output_type": "stream",
          "name": "stdout",
          "text": [
            "punkt not found. downloading...\n"
          ]
        },
        {
          "output_type": "stream",
          "name": "stderr",
          "text": [
            "[nltk_data] Downloading package punkt to /root/nltk_data...\n",
            "[nltk_data]   Unzipping tokenizers/punkt.zip.\n"
          ]
        }
      ]
    },
    {
      "cell_type": "code",
      "source": [
        "bwv = BengaliWord2Vec()"
      ],
      "metadata": {
        "id": "yvUf4Pt478OZ"
      },
      "execution_count": null,
      "outputs": []
    },
    {
      "cell_type": "code",
      "source": [
        "model_path = \"/drive/My Drive/NLP Project/bnwiki_word2vec.model\""
      ],
      "metadata": {
        "id": "caRhRrHn8AZ2"
      },
      "execution_count": null,
      "outputs": []
    },
    {
      "cell_type": "code",
      "source": [
        "word = 'রহমান'"
      ],
      "metadata": {
        "id": "-U-PHeSz9z8f"
      },
      "execution_count": null,
      "outputs": []
    },
    {
      "cell_type": "code",
      "source": [
        "vector = bwv.generate_word_vector(model_path, word)"
      ],
      "metadata": {
        "id": "cIGQp9wc95ge"
      },
      "execution_count": null,
      "outputs": []
    },
    {
      "cell_type": "code",
      "source": [
        "print(vector.shape)"
      ],
      "metadata": {
        "colab": {
          "base_uri": "https://localhost:8080/"
        },
        "id": "APbePCtL989i",
        "outputId": "5357ffac-3699-48a0-b15f-1af46b937eba"
      },
      "execution_count": null,
      "outputs": [
        {
          "output_type": "stream",
          "name": "stdout",
          "text": [
            "(100,)\n"
          ]
        }
      ]
    },
    {
      "cell_type": "code",
      "source": [
        "print(vector)"
      ],
      "metadata": {
        "colab": {
          "base_uri": "https://localhost:8080/"
        },
        "id": "sTkprqMw-AIn",
        "outputId": "57403af5-ac13-4107-c3a7-bb835d249bf4"
      },
      "execution_count": null,
      "outputs": [
        {
          "output_type": "stream",
          "name": "stdout",
          "text": [
            "[-0.8483233   0.66915464  2.5255735  -3.557325    0.74918693 -0.59812933\n",
            " -1.536077    1.2844191  -3.6737971  -0.04605379 -3.902748   -0.7442698\n",
            " -1.5786147  -3.949722    2.093434    3.0615644   4.056278   -1.6362537\n",
            " -2.254328   -0.54867136 -3.2726572   2.7084188   3.0926008  -1.3203216\n",
            "  0.65094084 -6.2507696  -2.4120903  -2.048139   -2.7444558   0.2931729\n",
            "  2.7270203  -1.1769505  -0.6949842  -4.9115515  -2.6854897  -0.66072965\n",
            "  0.5036349   1.6391851  -1.5211016   1.0427524  -1.7621607   3.9261224\n",
            " -0.02972849 -0.38948163 -1.1429492  -1.5875919  -3.0977194   0.6691629\n",
            " -1.6788913  -2.0806456   4.132859   -3.2797105  -1.6196283  -2.4065893\n",
            " -1.121621   -2.6995947  -0.6704143  -3.7940264   2.2554975   0.9916192\n",
            "  2.219424   -4.340664   -2.291909    3.77561     0.95923847  5.82896\n",
            " -0.11525097 -0.44580022 -0.68934953 -4.7471857   1.5679183   2.5092058\n",
            " -0.8082013   1.4739058  -0.62720984 -0.2520266  -1.1904012  -0.9824888\n",
            " -0.25307152 -1.4210255  -1.1860751  -0.6078619   1.3897053   1.7338829\n",
            " -0.7300064   3.021485    0.8600009   1.2938193  -0.13994494 -0.40895927\n",
            " -2.5575209   0.03817525 -0.70017225 -3.1069326   0.4128085  -0.8170122\n",
            "  0.9976527   0.9300714  -2.6079156  -1.1052812 ]\n"
          ]
        }
      ]
    },
    {
      "cell_type": "markdown",
      "source": [
        "***`Find Most Similar Word Using Pretrained Model:`***"
      ],
      "metadata": {
        "id": "yVOQWz90-vFW"
      }
    },
    {
      "cell_type": "code",
      "source": [
        "from bnlp import BengaliWord2Vec"
      ],
      "metadata": {
        "id": "9reEMxrN-2Ep"
      },
      "execution_count": null,
      "outputs": []
    },
    {
      "cell_type": "code",
      "source": [
        "bwv = BengaliWord2Vec()"
      ],
      "metadata": {
        "id": "k76JmbWj-6PJ"
      },
      "execution_count": null,
      "outputs": []
    },
    {
      "cell_type": "code",
      "source": [
        "similar = bwv.most_similar(model_path, word, topn=10)"
      ],
      "metadata": {
        "id": "2LDwAtJm_Dho"
      },
      "execution_count": null,
      "outputs": []
    },
    {
      "cell_type": "code",
      "source": [
        "print(similar)"
      ],
      "metadata": {
        "colab": {
          "base_uri": "https://localhost:8080/"
        },
        "id": "Fegj4IXM_GHh",
        "outputId": "21def7c9-abe4-42a7-ae67-c458294a4b45"
      },
      "execution_count": null,
      "outputs": [
        {
          "output_type": "stream",
          "name": "stdout",
          "text": [
            "[('রহমানকে', 0.7722952365875244), ('হক', 0.7679953575134277), ('আলম', 0.7644319534301758), ('রহমানের', 0.7553200125694275), ('আহমেদ', 0.7505270838737488), ('রশীদ', 0.7505248785018921), ('হোসেন', 0.7478514313697815), ('হুদা', 0.7366140484809875), ('রহমানও', 0.715615451335907), ('রউফ', 0.70885169506073)]\n"
          ]
        }
      ]
    }
  ]
}